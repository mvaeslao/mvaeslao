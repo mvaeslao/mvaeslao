{
 "cells": [
  {
   "cell_type": "code",
   "execution_count": 1,
   "id": "9806055b",
   "metadata": {
    "_cell_guid": "b1076dfc-b9ad-4769-8c92-a6c4dae69d19",
    "_uuid": "8f2839f25d086af736a60e9eeb907d3b93b6e0e5",
    "execution": {
     "iopub.execute_input": "2022-04-29T14:25:19.210173Z",
     "iopub.status.busy": "2022-04-29T14:25:19.209492Z",
     "iopub.status.idle": "2022-04-29T14:25:19.225310Z",
     "shell.execute_reply": "2022-04-29T14:25:19.224486Z"
    },
    "papermill": {
     "duration": 0.026309,
     "end_time": "2022-04-29T14:25:19.228284",
     "exception": false,
     "start_time": "2022-04-29T14:25:19.201975",
     "status": "completed"
    },
    "tags": []
   },
   "outputs": [
    {
     "name": "stdout",
     "output_type": "stream",
     "text": [
      "The unsorted list is: [7, 2, 1, 6, 8, 3, 5, 9, 4]\n",
      "The sorted new list is: [1, 2, 3, 4, 5, 6, 7, 8, 9]\n"
     ]
    }
   ],
   "source": [
    "# insertion sort algorithm\n",
    "def insertion_sort(list1):\n",
    "\n",
    "\n",
    "\t\tfor i in range(1, len(list1)):\n",
    "\n",
    "\t\t\ta = list1[i]\n",
    "\t\t\tj = i - 1\n",
    "\t\t\n",
    "\t\t\twhile j >= 0 and a < list1[j]:\n",
    "\t\t\t\tlist1[j + 1] = list1[j]\n",
    "\t\t\t\tj -= 1\n",
    "\t\t\t\t\n",
    "\t\t\tlist1[j + 1] = a\n",
    "\t\t\t\n",
    "\t\treturn list1\n",
    "\t\t\t\n",
    "\n",
    "list1 = [ 7, 2, 1, 6, 8, 3, 5, 9, 4 ]\n",
    "print(\"The unsorted list is:\", list1)\n",
    "print(\"The sorted new list is:\", insertion_sort(list1))\n"
   ]
  },
  {
   "cell_type": "code",
   "execution_count": 2,
   "id": "06e2e14f",
   "metadata": {
    "execution": {
     "iopub.execute_input": "2022-04-29T14:25:19.242061Z",
     "iopub.status.busy": "2022-04-29T14:25:19.241583Z",
     "iopub.status.idle": "2022-04-29T14:25:19.256573Z",
     "shell.execute_reply": "2022-04-29T14:25:19.254883Z"
    },
    "papermill": {
     "duration": 0.025505,
     "end_time": "2022-04-29T14:25:19.259671",
     "exception": false,
     "start_time": "2022-04-29T14:25:19.234166",
     "status": "completed"
    },
    "tags": []
   },
   "outputs": [
    {
     "name": "stdout",
     "output_type": "stream",
     "text": [
      "Given array is\n",
      "12 11 13 5 6 7 1 \n",
      "Sorted array is: \n",
      "1 5 6 7 11 12 13 \n"
     ]
    }
   ],
   "source": [
    "# MergeSort\n",
    "def mergeSort(arr):\n",
    "\tif len(arr) > 1:\n",
    "\t\tmid = len(arr)//2\n",
    "\t\tL = arr[:mid]\n",
    "\t\tR = arr[mid:]\n",
    "\t\tmergeSort(L)\n",
    "\t\tmergeSort(R)\n",
    "\n",
    "\t\ti = j = k = 0\n",
    "\t\twhile i < len(L) and j < len(R):\n",
    "\t\t\tif L[i] < R[j]:\n",
    "\t\t\t\tarr[k] = L[i]\n",
    "\t\t\t\ti += 1\n",
    "\t\t\telse:\n",
    "\t\t\t\tarr[k] = R[j]\n",
    "\t\t\t\tj += 1\n",
    "\t\t\tk += 1\n",
    "\n",
    "\n",
    "\t\twhile i < len(L):\n",
    "\t\t\tarr[k] = L[i]\n",
    "\t\t\ti += 1\n",
    "\t\t\tk += 1\n",
    "\n",
    "\t\twhile j < len(R):\n",
    "\t\t\tarr[k] = R[j]\n",
    "\t\t\tj += 1\n",
    "\t\t\tk += 1\n",
    "\n",
    "\n",
    "\n",
    "def printList(arr):\n",
    "\tfor i in range(len(arr)):\n",
    "\t\tprint(arr[i], end=\" \")\n",
    "\tprint()\n",
    "\n",
    "\n",
    "\n",
    "if __name__ == '__main__':\n",
    "\tarr = [12, 11, 13, 5, 6, 7, 1]\n",
    "\tprint(\"Given array is\", end=\"\\n\")\n",
    "\tprintList(arr)\n",
    "\tmergeSort(arr)\n",
    "\tprint(\"Sorted array is: \", end=\"\\n\")\n",
    "\tprintList(arr)\n",
    "\n"
   ]
  }
 ],
 "metadata": {
  "kernelspec": {
   "display_name": "Python 3",
   "language": "python",
   "name": "python3"
  },
  "language_info": {
   "codemirror_mode": {
    "name": "ipython",
    "version": 3
   },
   "file_extension": ".py",
   "mimetype": "text/x-python",
   "name": "python",
   "nbconvert_exporter": "python",
   "pygments_lexer": "ipython3",
   "version": "3.7.12"
  },
  "papermill": {
   "default_parameters": {},
   "duration": 12.589289,
   "end_time": "2022-04-29T14:25:20.188461",
   "environment_variables": {},
   "exception": null,
   "input_path": "__notebook__.ipynb",
   "output_path": "__notebook__.ipynb",
   "parameters": {},
   "start_time": "2022-04-29T14:25:07.599172",
   "version": "2.3.4"
  }
 },
 "nbformat": 4,
 "nbformat_minor": 5
}
